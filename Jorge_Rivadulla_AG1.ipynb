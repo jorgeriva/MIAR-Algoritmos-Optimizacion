{
  "nbformat": 4,
  "nbformat_minor": 0,
  "metadata": {
    "colab": {
      "provenance": [],
      "authorship_tag": "ABX9TyN3KRjtK/lHjTaluJW0azrn",
      "include_colab_link": true
    },
    "kernelspec": {
      "name": "python3",
      "display_name": "Python 3"
    },
    "language_info": {
      "name": "python"
    }
  },
  "cells": [
    {
      "cell_type": "markdown",
      "metadata": {
        "id": "view-in-github",
        "colab_type": "text"
      },
      "source": [
        "<a href=\"https://colab.research.google.com/github/jorgeriva/MIAR-Algoritmos-Optimizacion/blob/main/Jorge_Rivadulla_AG1.ipynb\" target=\"_parent\"><img src=\"https://colab.research.google.com/assets/colab-badge.svg\" alt=\"Open In Colab\"/></a>"
      ]
    },
    {
      "cell_type": "code",
      "execution_count": null,
      "metadata": {
        "id": "3dimybCt0Ls-"
      },
      "outputs": [],
      "source": []
    },
    {
      "cell_type": "markdown",
      "source": [
        "Actividad Guiada 1 de Algoritmos de Optimización\n",
        "\n",
        "Jorge Rivadula Brey\n",
        "\n",
        "https://colab.research.google.com/drive/1tuopypS7bakZ5mtggxsXB4hiLDH9u_0q?usp=sharing\n",
        "\n",
        "https://github.com/jorgeriva/MIAR-Algoritmos-Optimizacion"
      ],
      "metadata": {
        "id": "p8rtqIeW3_sG"
      }
    }
  ]
}